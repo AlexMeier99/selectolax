{
 "cells": [
  {
   "cell_type": "code",
   "execution_count": 1,
   "metadata": {
    "collapsed": false
   },
   "outputs": [],
   "source": [
    "from selectolax.parser import HTMLParser"
   ]
  },
  {
   "cell_type": "code",
   "execution_count": 25,
   "metadata": {
    "collapsed": false
   },
   "outputs": [],
   "source": [
    "html = \"\"\"\n",
    "<body>\n",
    "    <span id=\"vspan\"></span>\n",
    "    <h1>Welcome to selectolax tutorial</h1>\n",
    "    <div id=\"text\">\n",
    "        <p class='p3' style='display:none;'>Excepteur sint occaecat cupidatat non proident</p>\n",
    "        <p class='p3' vid>Lorem ipsum</p>\n",
    "    </div>\n",
    "    <div>\n",
    "        <p id='stext'>Lorem ipsum dolor sit amet, ea quo modus meliore platonem.</p>\n",
    "    </div>\n",
    "</body>\n",
    "\"\"\""
   ]
  },
  {
   "cell_type": "markdown",
   "metadata": {},
   "source": [
    "#### Select all p tags with class p3"
   ]
  },
  {
   "cell_type": "code",
   "execution_count": 26,
   "metadata": {
    "collapsed": false,
    "scrolled": true
   },
   "outputs": [
    {
     "name": "stdout",
     "output_type": "stream",
     "text": [
      "---------------------\n",
      "Node: <p class=\"p3\" style=\"display:none;\">Excepteur sint occaecat cupidatat non proident</p>\n",
      "attributes: {'style': 'display:none;', 'class': 'p3'}\n",
      "node text: Excepteur sint occaecat cupidatat non proident\n",
      "tag: p\n",
      "parent tag: div\n",
      "last child inside current node: Excepteur sint occaecat cupidatat non proident\n",
      "---------------------\n",
      "\n",
      "---------------------\n",
      "Node: <p class=\"p3\" vid=\"\">Lorem ipsum</p>\n",
      "attributes: {'vid': None, 'class': 'p3'}\n",
      "node text: Lorem ipsum\n",
      "tag: p\n",
      "parent tag: div\n",
      "last child inside current node: Lorem ipsum\n",
      "---------------------\n",
      "\n"
     ]
    }
   ],
   "source": [
    "selector = \"p.p3\"\n",
    "\n",
    "for node in HTMLParser(html).css(selector):\n",
    "    print('---------------------')\n",
    "    print('Node: %s' % node.html)\n",
    "    print('attributes: %s' % node.attributes)\n",
    "    print('node text: %s' % node.text)\n",
    "    print('tag: %s' % node.tag)\n",
    "    print('parent tag: %s' % node.parent.tag)\n",
    "    if node.last_child:\n",
    "        print('last child inside current node: %s' % node.last_child.html)\n",
    "    print('---------------------\\n')"
   ]
  },
  {
   "cell_type": "markdown",
   "metadata": {},
   "source": [
    "#### Select first match"
   ]
  },
  {
   "cell_type": "code",
   "execution_count": 24,
   "metadata": {
    "collapsed": false
   },
   "outputs": [
    {
     "name": "stdout",
     "output_type": "stream",
     "text": [
      "Title: Welcome to selectolax tutorial\n"
     ]
    }
   ],
   "source": [
    "print(\"H1: %s\" % HTMLParser(html).css_first('h1').text)"
   ]
  },
  {
   "cell_type": "markdown",
   "metadata": {},
   "source": [
    "#### Default return value if there is no matches"
   ]
  },
  {
   "cell_type": "code",
   "execution_count": 25,
   "metadata": {
    "collapsed": false
   },
   "outputs": [
    {
     "name": "stdout",
     "output_type": "stream",
     "text": [
      "Title: not-found\n"
     ]
    }
   ],
   "source": [
    "print(\"Title: %s\" % HTMLParser(html).css_first('title', default='not-found'))"
   ]
  },
  {
   "cell_type": "markdown",
   "metadata": {},
   "source": [
    "#### Strictly one match"
   ]
  },
  {
   "cell_type": "code",
   "execution_count": 26,
   "metadata": {
    "collapsed": false
   },
   "outputs": [
    {
     "ename": "ValueError",
     "evalue": "Excepted 1 match, but found 2 matches",
     "output_type": "error",
     "traceback": [
      "\u001b[0;31m---------------------------------------------------------------------------\u001b[0m",
      "\u001b[0;31mValueError\u001b[0m                                Traceback (most recent call last)",
      "\u001b[0;32m<ipython-input-26-6b96cd2c474e>\u001b[0m in \u001b[0;36m<module>\u001b[0;34m()\u001b[0m\n\u001b[0;32m----> 1\u001b[0;31m \u001b[0mHTMLParser\u001b[0m\u001b[0;34m(\u001b[0m\u001b[0mhtml\u001b[0m\u001b[0;34m)\u001b[0m\u001b[0;34m.\u001b[0m\u001b[0mcss_first\u001b[0m\u001b[0;34m(\u001b[0m\u001b[0;34m\"p.p3\"\u001b[0m\u001b[0;34m,\u001b[0m\u001b[0mdefault\u001b[0m\u001b[0;34m=\u001b[0m\u001b[0;34m'not-found'\u001b[0m\u001b[0;34m,\u001b[0m\u001b[0mstrict\u001b[0m\u001b[0;34m=\u001b[0m\u001b[0;32mTrue\u001b[0m\u001b[0;34m)\u001b[0m\u001b[0;34m\u001b[0m\u001b[0m\n\u001b[0m",
      "\u001b[0;32m/Users/im/anaconda/lib/python3.5/site-packages/selectolax-0.1.1-py3.5-macosx-10.6-x86_64.egg/selectolax/parser.pyx\u001b[0m in \u001b[0;36mselectolax.parser.HTMLParser.css_first\u001b[0;34m()\u001b[0m\n",
      "\u001b[0;31mValueError\u001b[0m: Excepted 1 match, but found 2 matches"
     ]
    }
   ],
   "source": [
    "HTMLParser(html).css_first(\"p.p3\", default='not-found', strict=True)"
   ]
  },
  {
   "cell_type": "markdown",
   "metadata": {},
   "source": [
    "#### Print parent of p#stext"
   ]
  },
  {
   "cell_type": "code",
   "execution_count": 35,
   "metadata": {
    "collapsed": false
   },
   "outputs": [
    {
     "data": {
      "text/plain": [
       "'<div>\\n        <p id=\"stext\">Lorem ipsum dolor sit amet, ea quo modus meliore platonem.</p>\\n    </div>'"
      ]
     },
     "execution_count": 35,
     "metadata": {},
     "output_type": "execute_result"
    }
   ],
   "source": [
    "HTMLParser(html).css_first('p#stext').parent.html"
   ]
  },
  {
   "cell_type": "markdown",
   "metadata": {},
   "source": [
    "#### Nested selectors"
   ]
  },
  {
   "cell_type": "code",
   "execution_count": 4,
   "metadata": {
    "collapsed": false
   },
   "outputs": [
    {
     "data": {
      "text/plain": [
       "'<p class=\"p3\" vid=\"\">sd</p>'"
      ]
     },
     "execution_count": 4,
     "metadata": {},
     "output_type": "execute_result"
    }
   ],
   "source": [
    "HTMLParser(html).css_first('div#text').css_first('p:nth-child(2)').html"
   ]
  },
  {
   "cell_type": "markdown",
   "metadata": {},
   "source": [
    "#### Encoding detection"
   ]
  },
  {
   "cell_type": "code",
   "execution_count": 14,
   "metadata": {
    "collapsed": false
   },
   "outputs": [],
   "source": [
    "html = \"<div>Привет мир!</div>\"\n",
    "# Encoding detector works only with raw strings (bytes)\n",
    "html_bytes = html.encode('cp1251')"
   ]
  },
  {
   "cell_type": "code",
   "execution_count": 3,
   "metadata": {
    "collapsed": false
   },
   "outputs": [
    {
     "data": {
      "text/plain": [
       "b'<div>\\xcf\\xf0\\xe8\\xe2\\xe5\\xf2 \\xec\\xe8\\xf0!</div>'"
      ]
     },
     "execution_count": 3,
     "metadata": {},
     "output_type": "execute_result"
    }
   ],
   "source": [
    "html_bytes"
   ]
  },
  {
   "cell_type": "code",
   "execution_count": 15,
   "metadata": {
    "collapsed": false
   },
   "outputs": [
    {
     "data": {
      "text/plain": [
       "'WINDOWS-1251'"
      ]
     },
     "execution_count": 15,
     "metadata": {},
     "output_type": "execute_result"
    }
   ],
   "source": [
    "HTMLParser(html_bytes, detect_encoding=True).input_encoding"
   ]
  },
  {
   "cell_type": "markdown",
   "metadata": {},
   "source": [
    "#### Encoding detection using meta tags"
   ]
  },
  {
   "cell_type": "code",
   "execution_count": 20,
   "metadata": {
    "collapsed": false
   },
   "outputs": [
    {
     "data": {
      "text/plain": [
       "'WINDOWS-1251'"
      ]
     },
     "execution_count": 20,
     "metadata": {},
     "output_type": "execute_result"
    }
   ],
   "source": [
    "html = '<head><meta charset=\"WINDOWS-1251\"></head>'.encode('cp1251')\n",
    "HTMLParser(html, detect_encoding=True, use_meta_tags=True).input_encoding"
   ]
  },
  {
   "cell_type": "code",
   "execution_count": 19,
   "metadata": {
    "collapsed": false
   },
   "outputs": [
    {
     "data": {
      "text/plain": [
       "'WINDOWS-1251'"
      ]
     },
     "execution_count": 19,
     "metadata": {},
     "output_type": "execute_result"
    }
   ],
   "source": [
    "html_utf = '<head><meta charset=\"WINDOWS-1251\"></head>'.encode('utf-8')\n",
    "HTMLParser(html_utf, detect_encoding=True, use_meta_tags=True).input_encoding"
   ]
  }
 ],
 "metadata": {
  "kernelspec": {
   "display_name": "Python [default]",
   "language": "python",
   "name": "python3"
  },
  "language_info": {
   "codemirror_mode": {
    "name": "ipython",
    "version": 3
   },
   "file_extension": ".py",
   "mimetype": "text/x-python",
   "name": "python",
   "nbconvert_exporter": "python",
   "pygments_lexer": "ipython3",
   "version": "3.5.2"
  }
 },
 "nbformat": 4,
 "nbformat_minor": 2
}
